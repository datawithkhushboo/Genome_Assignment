{
  "nbformat": 4,
  "nbformat_minor": 0,
  "metadata": {
    "colab": {
      "provenance": [],
      "include_colab_link": true
    },
    "kernelspec": {
      "name": "python3",
      "display_name": "Python 3"
    },
    "language_info": {
      "name": "python"
    }
  },
  "cells": [
    {
      "cell_type": "markdown",
      "metadata": {
        "id": "view-in-github",
        "colab_type": "text"
      },
      "source": [
        "<a href=\"https://colab.research.google.com/github/datawithkhushboo/Genome_Assignment/blob/main/Python_assignment.ipynb\" target=\"_parent\"><img src=\"https://colab.research.google.com/assets/colab-badge.svg\" alt=\"Open In Colab\"/></a>"
      ]
    },
    {
      "cell_type": "markdown",
      "source": [
        "#Import Libraries"
      ],
      "metadata": {
        "id": "sbVNCD-cQbYs"
      }
    },
    {
      "cell_type": "code",
      "execution_count": null,
      "metadata": {
        "id": "dM2LKzDYO99L"
      },
      "outputs": [],
      "source": [
        "\n",
        "import pandas as pd  # for Data framing\n",
        "from datetime import datetime # for datetime operation\n"
      ]
    },
    {
      "cell_type": "markdown",
      "source": [
        "# Load the Data"
      ],
      "metadata": {
        "id": "OTRAASYzQ_Br"
      }
    },
    {
      "cell_type": "code",
      "source": [
        "df = pd.read_csv('https://raw.githubusercontent.com/datawithkhushboo/Genome_Assignment/main/deal_data.csv') # import the data direct from github"
      ],
      "metadata": {
        "id": "DKcvEPwPPGhC"
      },
      "execution_count": null,
      "outputs": []
    },
    {
      "cell_type": "code",
      "source": [
        "df.head() # shows the top values of data"
      ],
      "metadata": {
        "colab": {
          "base_uri": "https://localhost:8080/"
        },
        "id": "X2br75MqPLlj",
        "outputId": "d7784d21-a8a6-4c92-bc1d-1497a2bdeaf7"
      },
      "execution_count": null,
      "outputs": [
        {
          "output_type": "execute_result",
          "data": {
            "text/plain": [
              "   Unnamed: 0                       SourceFundingID      Source Domain  \\\n",
              "0           0  00058d99-4eb8-47d4-9189-01f90ebd86e9  Crunchbase    NaN   \n",
              "1           1  00067368-f52d-4ccf-824d-c73115615c4d  Crunchbase    NaN   \n",
              "2           2  00172f9e-6c79-4d86-a176-d69fda4e4d77  Crunchbase    NaN   \n",
              "3           3  0027cfba-6051-4472-b82e-21ca5687395a  Crunchbase    NaN   \n",
              "4           4  0029dad2-c341-4ea7-99e3-2db296f474eb  Crunchbase    NaN   \n",
              "\n",
              "                        SourceCompanyID  PostMoneyValuation     Type  \\\n",
              "0  b6204211-01eb-4e84-ba95-4f9780724d30           2450000.0     seed   \n",
              "1  ada0db7e-2854-4d21-8e6a-eee86e978182                 NaN     seed   \n",
              "2  b8210cf6-6b5f-4697-961c-8ac3e6d419ba                 NaN  venture   \n",
              "3  9b400938-bd82-430a-90b6-35663785a5b8                 NaN     seed   \n",
              "4  22007017-3d3b-41c1-9b6a-0fd71075614a          10000000.0     seed   \n",
              "\n",
              "  SourceType    Amount              Original_Date  ... Agency Consultancy  \\\n",
              "0       seed  320000.0  2020-06-01 00:00:00+00:00  ...                NaN   \n",
              "1   pre seed       NaN  2021-01-19 00:00:00+00:00  ...                NaN   \n",
              "2    venture       NaN  2011-01-01 00:00:00+00:00  ...                NaN   \n",
              "3      angel       NaN  2018-07-31 00:00:00+00:00  ...                NaN   \n",
              "4   pre seed       NaN  2020-10-12 00:00:00+00:00  ...                NaN   \n",
              "\n",
              "   Ecosystem GoogleCountry GoogleCity Sectors Region FormationDate  \\\n",
              "0        NaN           NaN        NaN     NaN    NaN           NaN   \n",
              "1        NaN           NaN        NaN     NaN    NaN           NaN   \n",
              "2        NaN           NaN        NaN     NaN    NaN           NaN   \n",
              "3        NaN           NaN        NaN     NaN    NaN           NaN   \n",
              "4        NaN           NaN        NaN     NaN    NaN           NaN   \n",
              "\n",
              "  Amount_ExchangeRate Amount_USD PostMoneyValuationUSD  \n",
              "0                 1.0   320000.0             2450000.0  \n",
              "1                 NaN        NaN                   NaN  \n",
              "2                 NaN        NaN                   NaN  \n",
              "3                 NaN        NaN                   NaN  \n",
              "4                 NaN        NaN            10000000.0  \n",
              "\n",
              "[5 rows x 30 columns]"
            ],
            "text/html": [
              "\n",
              "  <div id=\"df-ba47154c-baa2-4e7c-9110-9a3189949e76\" class=\"colab-df-container\">\n",
              "    <div>\n",
              "<style scoped>\n",
              "    .dataframe tbody tr th:only-of-type {\n",
              "        vertical-align: middle;\n",
              "    }\n",
              "\n",
              "    .dataframe tbody tr th {\n",
              "        vertical-align: top;\n",
              "    }\n",
              "\n",
              "    .dataframe thead th {\n",
              "        text-align: right;\n",
              "    }\n",
              "</style>\n",
              "<table border=\"1\" class=\"dataframe\">\n",
              "  <thead>\n",
              "    <tr style=\"text-align: right;\">\n",
              "      <th></th>\n",
              "      <th>Unnamed: 0</th>\n",
              "      <th>SourceFundingID</th>\n",
              "      <th>Source</th>\n",
              "      <th>Domain</th>\n",
              "      <th>SourceCompanyID</th>\n",
              "      <th>PostMoneyValuation</th>\n",
              "      <th>Type</th>\n",
              "      <th>SourceType</th>\n",
              "      <th>Amount</th>\n",
              "      <th>Original_Date</th>\n",
              "      <th>...</th>\n",
              "      <th>Agency Consultancy</th>\n",
              "      <th>Ecosystem</th>\n",
              "      <th>GoogleCountry</th>\n",
              "      <th>GoogleCity</th>\n",
              "      <th>Sectors</th>\n",
              "      <th>Region</th>\n",
              "      <th>FormationDate</th>\n",
              "      <th>Amount_ExchangeRate</th>\n",
              "      <th>Amount_USD</th>\n",
              "      <th>PostMoneyValuationUSD</th>\n",
              "    </tr>\n",
              "  </thead>\n",
              "  <tbody>\n",
              "    <tr>\n",
              "      <th>0</th>\n",
              "      <td>0</td>\n",
              "      <td>00058d99-4eb8-47d4-9189-01f90ebd86e9</td>\n",
              "      <td>Crunchbase</td>\n",
              "      <td>NaN</td>\n",
              "      <td>b6204211-01eb-4e84-ba95-4f9780724d30</td>\n",
              "      <td>2450000.0</td>\n",
              "      <td>seed</td>\n",
              "      <td>seed</td>\n",
              "      <td>320000.0</td>\n",
              "      <td>2020-06-01 00:00:00+00:00</td>\n",
              "      <td>...</td>\n",
              "      <td>NaN</td>\n",
              "      <td>NaN</td>\n",
              "      <td>NaN</td>\n",
              "      <td>NaN</td>\n",
              "      <td>NaN</td>\n",
              "      <td>NaN</td>\n",
              "      <td>NaN</td>\n",
              "      <td>1.0</td>\n",
              "      <td>320000.0</td>\n",
              "      <td>2450000.0</td>\n",
              "    </tr>\n",
              "    <tr>\n",
              "      <th>1</th>\n",
              "      <td>1</td>\n",
              "      <td>00067368-f52d-4ccf-824d-c73115615c4d</td>\n",
              "      <td>Crunchbase</td>\n",
              "      <td>NaN</td>\n",
              "      <td>ada0db7e-2854-4d21-8e6a-eee86e978182</td>\n",
              "      <td>NaN</td>\n",
              "      <td>seed</td>\n",
              "      <td>pre seed</td>\n",
              "      <td>NaN</td>\n",
              "      <td>2021-01-19 00:00:00+00:00</td>\n",
              "      <td>...</td>\n",
              "      <td>NaN</td>\n",
              "      <td>NaN</td>\n",
              "      <td>NaN</td>\n",
              "      <td>NaN</td>\n",
              "      <td>NaN</td>\n",
              "      <td>NaN</td>\n",
              "      <td>NaN</td>\n",
              "      <td>NaN</td>\n",
              "      <td>NaN</td>\n",
              "      <td>NaN</td>\n",
              "    </tr>\n",
              "    <tr>\n",
              "      <th>2</th>\n",
              "      <td>2</td>\n",
              "      <td>00172f9e-6c79-4d86-a176-d69fda4e4d77</td>\n",
              "      <td>Crunchbase</td>\n",
              "      <td>NaN</td>\n",
              "      <td>b8210cf6-6b5f-4697-961c-8ac3e6d419ba</td>\n",
              "      <td>NaN</td>\n",
              "      <td>venture</td>\n",
              "      <td>venture</td>\n",
              "      <td>NaN</td>\n",
              "      <td>2011-01-01 00:00:00+00:00</td>\n",
              "      <td>...</td>\n",
              "      <td>NaN</td>\n",
              "      <td>NaN</td>\n",
              "      <td>NaN</td>\n",
              "      <td>NaN</td>\n",
              "      <td>NaN</td>\n",
              "      <td>NaN</td>\n",
              "      <td>NaN</td>\n",
              "      <td>NaN</td>\n",
              "      <td>NaN</td>\n",
              "      <td>NaN</td>\n",
              "    </tr>\n",
              "    <tr>\n",
              "      <th>3</th>\n",
              "      <td>3</td>\n",
              "      <td>0027cfba-6051-4472-b82e-21ca5687395a</td>\n",
              "      <td>Crunchbase</td>\n",
              "      <td>NaN</td>\n",
              "      <td>9b400938-bd82-430a-90b6-35663785a5b8</td>\n",
              "      <td>NaN</td>\n",
              "      <td>seed</td>\n",
              "      <td>angel</td>\n",
              "      <td>NaN</td>\n",
              "      <td>2018-07-31 00:00:00+00:00</td>\n",
              "      <td>...</td>\n",
              "      <td>NaN</td>\n",
              "      <td>NaN</td>\n",
              "      <td>NaN</td>\n",
              "      <td>NaN</td>\n",
              "      <td>NaN</td>\n",
              "      <td>NaN</td>\n",
              "      <td>NaN</td>\n",
              "      <td>NaN</td>\n",
              "      <td>NaN</td>\n",
              "      <td>NaN</td>\n",
              "    </tr>\n",
              "    <tr>\n",
              "      <th>4</th>\n",
              "      <td>4</td>\n",
              "      <td>0029dad2-c341-4ea7-99e3-2db296f474eb</td>\n",
              "      <td>Crunchbase</td>\n",
              "      <td>NaN</td>\n",
              "      <td>22007017-3d3b-41c1-9b6a-0fd71075614a</td>\n",
              "      <td>10000000.0</td>\n",
              "      <td>seed</td>\n",
              "      <td>pre seed</td>\n",
              "      <td>NaN</td>\n",
              "      <td>2020-10-12 00:00:00+00:00</td>\n",
              "      <td>...</td>\n",
              "      <td>NaN</td>\n",
              "      <td>NaN</td>\n",
              "      <td>NaN</td>\n",
              "      <td>NaN</td>\n",
              "      <td>NaN</td>\n",
              "      <td>NaN</td>\n",
              "      <td>NaN</td>\n",
              "      <td>NaN</td>\n",
              "      <td>NaN</td>\n",
              "      <td>10000000.0</td>\n",
              "    </tr>\n",
              "  </tbody>\n",
              "</table>\n",
              "<p>5 rows × 30 columns</p>\n",
              "</div>\n",
              "    <div class=\"colab-df-buttons\">\n",
              "\n",
              "  <div class=\"colab-df-container\">\n",
              "    <button class=\"colab-df-convert\" onclick=\"convertToInteractive('df-ba47154c-baa2-4e7c-9110-9a3189949e76')\"\n",
              "            title=\"Convert this dataframe to an interactive table.\"\n",
              "            style=\"display:none;\">\n",
              "\n",
              "  <svg xmlns=\"http://www.w3.org/2000/svg\" height=\"24px\" viewBox=\"0 -960 960 960\">\n",
              "    <path d=\"M120-120v-720h720v720H120Zm60-500h600v-160H180v160Zm220 220h160v-160H400v160Zm0 220h160v-160H400v160ZM180-400h160v-160H180v160Zm440 0h160v-160H620v160ZM180-180h160v-160H180v160Zm440 0h160v-160H620v160Z\"/>\n",
              "  </svg>\n",
              "    </button>\n",
              "\n",
              "  <style>\n",
              "    .colab-df-container {\n",
              "      display:flex;\n",
              "      gap: 12px;\n",
              "    }\n",
              "\n",
              "    .colab-df-convert {\n",
              "      background-color: #E8F0FE;\n",
              "      border: none;\n",
              "      border-radius: 50%;\n",
              "      cursor: pointer;\n",
              "      display: none;\n",
              "      fill: #1967D2;\n",
              "      height: 32px;\n",
              "      padding: 0 0 0 0;\n",
              "      width: 32px;\n",
              "    }\n",
              "\n",
              "    .colab-df-convert:hover {\n",
              "      background-color: #E2EBFA;\n",
              "      box-shadow: 0px 1px 2px rgba(60, 64, 67, 0.3), 0px 1px 3px 1px rgba(60, 64, 67, 0.15);\n",
              "      fill: #174EA6;\n",
              "    }\n",
              "\n",
              "    .colab-df-buttons div {\n",
              "      margin-bottom: 4px;\n",
              "    }\n",
              "\n",
              "    [theme=dark] .colab-df-convert {\n",
              "      background-color: #3B4455;\n",
              "      fill: #D2E3FC;\n",
              "    }\n",
              "\n",
              "    [theme=dark] .colab-df-convert:hover {\n",
              "      background-color: #434B5C;\n",
              "      box-shadow: 0px 1px 3px 1px rgba(0, 0, 0, 0.15);\n",
              "      filter: drop-shadow(0px 1px 2px rgba(0, 0, 0, 0.3));\n",
              "      fill: #FFFFFF;\n",
              "    }\n",
              "  </style>\n",
              "\n",
              "    <script>\n",
              "      const buttonEl =\n",
              "        document.querySelector('#df-ba47154c-baa2-4e7c-9110-9a3189949e76 button.colab-df-convert');\n",
              "      buttonEl.style.display =\n",
              "        google.colab.kernel.accessAllowed ? 'block' : 'none';\n",
              "\n",
              "      async function convertToInteractive(key) {\n",
              "        const element = document.querySelector('#df-ba47154c-baa2-4e7c-9110-9a3189949e76');\n",
              "        const dataTable =\n",
              "          await google.colab.kernel.invokeFunction('convertToInteractive',\n",
              "                                                    [key], {});\n",
              "        if (!dataTable) return;\n",
              "\n",
              "        const docLinkHtml = 'Like what you see? Visit the ' +\n",
              "          '<a target=\"_blank\" href=https://colab.research.google.com/notebooks/data_table.ipynb>data table notebook</a>'\n",
              "          + ' to learn more about interactive tables.';\n",
              "        element.innerHTML = '';\n",
              "        dataTable['output_type'] = 'display_data';\n",
              "        await google.colab.output.renderOutput(dataTable, element);\n",
              "        const docLink = document.createElement('div');\n",
              "        docLink.innerHTML = docLinkHtml;\n",
              "        element.appendChild(docLink);\n",
              "      }\n",
              "    </script>\n",
              "  </div>\n",
              "\n",
              "\n",
              "<div id=\"df-5abcd071-e6d9-4140-a044-590016f5bcde\">\n",
              "  <button class=\"colab-df-quickchart\" onclick=\"quickchart('df-5abcd071-e6d9-4140-a044-590016f5bcde')\"\n",
              "            title=\"Suggest charts.\"\n",
              "            style=\"display:none;\">\n",
              "\n",
              "<svg xmlns=\"http://www.w3.org/2000/svg\" height=\"24px\"viewBox=\"0 0 24 24\"\n",
              "     width=\"24px\">\n",
              "    <g>\n",
              "        <path d=\"M19 3H5c-1.1 0-2 .9-2 2v14c0 1.1.9 2 2 2h14c1.1 0 2-.9 2-2V5c0-1.1-.9-2-2-2zM9 17H7v-7h2v7zm4 0h-2V7h2v10zm4 0h-2v-4h2v4z\"/>\n",
              "    </g>\n",
              "</svg>\n",
              "  </button>\n",
              "\n",
              "<style>\n",
              "  .colab-df-quickchart {\n",
              "      --bg-color: #E8F0FE;\n",
              "      --fill-color: #1967D2;\n",
              "      --hover-bg-color: #E2EBFA;\n",
              "      --hover-fill-color: #174EA6;\n",
              "      --disabled-fill-color: #AAA;\n",
              "      --disabled-bg-color: #DDD;\n",
              "  }\n",
              "\n",
              "  [theme=dark] .colab-df-quickchart {\n",
              "      --bg-color: #3B4455;\n",
              "      --fill-color: #D2E3FC;\n",
              "      --hover-bg-color: #434B5C;\n",
              "      --hover-fill-color: #FFFFFF;\n",
              "      --disabled-bg-color: #3B4455;\n",
              "      --disabled-fill-color: #666;\n",
              "  }\n",
              "\n",
              "  .colab-df-quickchart {\n",
              "    background-color: var(--bg-color);\n",
              "    border: none;\n",
              "    border-radius: 50%;\n",
              "    cursor: pointer;\n",
              "    display: none;\n",
              "    fill: var(--fill-color);\n",
              "    height: 32px;\n",
              "    padding: 0;\n",
              "    width: 32px;\n",
              "  }\n",
              "\n",
              "  .colab-df-quickchart:hover {\n",
              "    background-color: var(--hover-bg-color);\n",
              "    box-shadow: 0 1px 2px rgba(60, 64, 67, 0.3), 0 1px 3px 1px rgba(60, 64, 67, 0.15);\n",
              "    fill: var(--button-hover-fill-color);\n",
              "  }\n",
              "\n",
              "  .colab-df-quickchart-complete:disabled,\n",
              "  .colab-df-quickchart-complete:disabled:hover {\n",
              "    background-color: var(--disabled-bg-color);\n",
              "    fill: var(--disabled-fill-color);\n",
              "    box-shadow: none;\n",
              "  }\n",
              "\n",
              "  .colab-df-spinner {\n",
              "    border: 2px solid var(--fill-color);\n",
              "    border-color: transparent;\n",
              "    border-bottom-color: var(--fill-color);\n",
              "    animation:\n",
              "      spin 1s steps(1) infinite;\n",
              "  }\n",
              "\n",
              "  @keyframes spin {\n",
              "    0% {\n",
              "      border-color: transparent;\n",
              "      border-bottom-color: var(--fill-color);\n",
              "      border-left-color: var(--fill-color);\n",
              "    }\n",
              "    20% {\n",
              "      border-color: transparent;\n",
              "      border-left-color: var(--fill-color);\n",
              "      border-top-color: var(--fill-color);\n",
              "    }\n",
              "    30% {\n",
              "      border-color: transparent;\n",
              "      border-left-color: var(--fill-color);\n",
              "      border-top-color: var(--fill-color);\n",
              "      border-right-color: var(--fill-color);\n",
              "    }\n",
              "    40% {\n",
              "      border-color: transparent;\n",
              "      border-right-color: var(--fill-color);\n",
              "      border-top-color: var(--fill-color);\n",
              "    }\n",
              "    60% {\n",
              "      border-color: transparent;\n",
              "      border-right-color: var(--fill-color);\n",
              "    }\n",
              "    80% {\n",
              "      border-color: transparent;\n",
              "      border-right-color: var(--fill-color);\n",
              "      border-bottom-color: var(--fill-color);\n",
              "    }\n",
              "    90% {\n",
              "      border-color: transparent;\n",
              "      border-bottom-color: var(--fill-color);\n",
              "    }\n",
              "  }\n",
              "</style>\n",
              "\n",
              "  <script>\n",
              "    async function quickchart(key) {\n",
              "      const quickchartButtonEl =\n",
              "        document.querySelector('#' + key + ' button');\n",
              "      quickchartButtonEl.disabled = true;  // To prevent multiple clicks.\n",
              "      quickchartButtonEl.classList.add('colab-df-spinner');\n",
              "      try {\n",
              "        const charts = await google.colab.kernel.invokeFunction(\n",
              "            'suggestCharts', [key], {});\n",
              "      } catch (error) {\n",
              "        console.error('Error during call to suggestCharts:', error);\n",
              "      }\n",
              "      quickchartButtonEl.classList.remove('colab-df-spinner');\n",
              "      quickchartButtonEl.classList.add('colab-df-quickchart-complete');\n",
              "    }\n",
              "    (() => {\n",
              "      let quickchartButtonEl =\n",
              "        document.querySelector('#df-5abcd071-e6d9-4140-a044-590016f5bcde button');\n",
              "      quickchartButtonEl.style.display =\n",
              "        google.colab.kernel.accessAllowed ? 'block' : 'none';\n",
              "    })();\n",
              "  </script>\n",
              "</div>\n",
              "    </div>\n",
              "  </div>\n"
            ]
          },
          "metadata": {},
          "execution_count": 124
        }
      ]
    },
    {
      "cell_type": "markdown",
      "source": [
        "# Understand the Data"
      ],
      "metadata": {
        "id": "nBg1eHWMRDqb"
      }
    },
    {
      "cell_type": "code",
      "source": [
        "df.shape # check the shape( row, columns)"
      ],
      "metadata": {
        "colab": {
          "base_uri": "https://localhost:8080/"
        },
        "id": "IaogoTL0PZAc",
        "outputId": "af4cf838-468d-4cc7-a45d-e06bf6b1e6c7"
      },
      "execution_count": null,
      "outputs": [
        {
          "output_type": "execute_result",
          "data": {
            "text/plain": [
              "(10000, 30)"
            ]
          },
          "metadata": {},
          "execution_count": 125
        }
      ]
    },
    {
      "cell_type": "code",
      "source": [
        "df.size # check the size row* columns"
      ],
      "metadata": {
        "colab": {
          "base_uri": "https://localhost:8080/"
        },
        "id": "kCZVvAepRPOi",
        "outputId": "60497544-5caf-489e-a869-6685109e832a"
      },
      "execution_count": null,
      "outputs": [
        {
          "output_type": "execute_result",
          "data": {
            "text/plain": [
              "300000"
            ]
          },
          "metadata": {},
          "execution_count": 126
        }
      ]
    },
    {
      "cell_type": "code",
      "source": [
        "df.isnull().sum() # check the total count of null values in each columns"
      ],
      "metadata": {
        "colab": {
          "base_uri": "https://localhost:8080/"
        },
        "id": "fHBsLu6WRh_y",
        "outputId": "a221ea87-8c38-4080-c866-1368e2ea7e51"
      },
      "execution_count": null,
      "outputs": [
        {
          "output_type": "execute_result",
          "data": {
            "text/plain": [
              "Unnamed: 0                  0\n",
              "SourceFundingID             0\n",
              "Source                      0\n",
              "Domain                   3891\n",
              "SourceCompanyID            21\n",
              "PostMoneyValuation       9327\n",
              "Type                        0\n",
              "SourceType                  0\n",
              "Amount                   3137\n",
              "Original_Date              15\n",
              "Date                       15\n",
              "MonthUnknown               15\n",
              "CreatedAt                3527\n",
              "UpdatedAt                3527\n",
              "VentureStage             7769\n",
              "Type_combined               0\n",
              "CurrencyCode              185\n",
              "ValuationCurrencyCode     182\n",
              "ID                          0\n",
              "Tech                     4536\n",
              "Agency Consultancy       3943\n",
              "Ecosystem                3931\n",
              "GoogleCountry            3933\n",
              "GoogleCity               4306\n",
              "Sectors                  5507\n",
              "Region                   3935\n",
              "FormationDate            3966\n",
              "Amount_ExchangeRate      3140\n",
              "Amount_USD               3140\n",
              "PostMoneyValuationUSD    9328\n",
              "dtype: int64"
            ]
          },
          "metadata": {},
          "execution_count": 127
        }
      ]
    },
    {
      "cell_type": "code",
      "source": [
        "df.duplicated().sum() # check the duplicates"
      ],
      "metadata": {
        "colab": {
          "base_uri": "https://localhost:8080/"
        },
        "id": "gfH20apxTzJZ",
        "outputId": "6f3eb4d9-13ea-4458-d1e1-756cd5a50c48"
      },
      "execution_count": null,
      "outputs": [
        {
          "output_type": "execute_result",
          "data": {
            "text/plain": [
              "0"
            ]
          },
          "metadata": {},
          "execution_count": 128
        }
      ]
    },
    {
      "cell_type": "code",
      "source": [
        "df['Source'].unique() # shows the unique values in the source"
      ],
      "metadata": {
        "colab": {
          "base_uri": "https://localhost:8080/"
        },
        "id": "n_CYrTs7UBDI",
        "outputId": "9183c57d-d457-4bd6-82fa-ee8eb536439b"
      },
      "execution_count": null,
      "outputs": [
        {
          "output_type": "execute_result",
          "data": {
            "text/plain": [
              "array(['Crunchbase', 'Dealroom', 'PitchBook', 'Survey', 'Member', 'ACCIO',\n",
              "       'New Zealand', 'Atlanta', 'Riyadh Member', 'Metro Atlanta Chamber',\n",
              "       'Moscow', 'LaunchVic', 'Barcelona', 'Pitchbook', 'Philippines',\n",
              "       'Valhalla deals', 'Startup Delta'], dtype=object)"
            ]
          },
          "metadata": {},
          "execution_count": 129
        }
      ]
    },
    {
      "cell_type": "code",
      "source": [
        "df['Type'].unique() # shows the unique values in the type"
      ],
      "metadata": {
        "colab": {
          "base_uri": "https://localhost:8080/"
        },
        "id": "0S2AEi5wWYqH",
        "outputId": "a6a6a655-a185-476b-9741-d2cdaff9dd0e"
      },
      "execution_count": null,
      "outputs": [
        {
          "output_type": "execute_result",
          "data": {
            "text/plain": [
              "array(['seed', 'venture'], dtype=object)"
            ]
          },
          "metadata": {},
          "execution_count": 130
        }
      ]
    },
    {
      "cell_type": "code",
      "source": [
        "df['SourceType'].unique() # shows the unique values in the sourcetype"
      ],
      "metadata": {
        "colab": {
          "base_uri": "https://localhost:8080/"
        },
        "id": "3lmOn446rrMT",
        "outputId": "12983660-b407-438d-9f02-11dc65b2f633"
      },
      "execution_count": null,
      "outputs": [
        {
          "output_type": "execute_result",
          "data": {
            "text/plain": [
              "array(['seed', 'pre seed', 'venture', 'angel', 'venture a', 'venture b',\n",
              "       'venture c', 'venture d', 'venture f', 'venture g', 'seed round',\n",
              "       'series a', 'series b', 'angel individual', 'late vc', 'series c',\n",
              "       'series e', 'early vc', 'series f', 'series d', 'series a1',\n",
              "       'series b1', 'series b2', 'series 1', 'pre a', 'series c1',\n",
              "       'series d2', 'venture e', 'series 2', 'series 3', 'series a2',\n",
              "       'series aa', 'series g', 'series c2', 'series e1', 'series h',\n",
              "       'venture h'], dtype=object)"
            ]
          },
          "metadata": {},
          "execution_count": 131
        }
      ]
    },
    {
      "cell_type": "code",
      "source": [
        "df['Agency Consultancy'].unique() # shows the unique values in the Agency Consultancy"
      ],
      "metadata": {
        "colab": {
          "base_uri": "https://localhost:8080/"
        },
        "id": "-C-p3JvGrrSU",
        "outputId": "9b156688-8970-4ce0-d9af-ef987a6e4536"
      },
      "execution_count": null,
      "outputs": [
        {
          "output_type": "execute_result",
          "data": {
            "text/plain": [
              "array([nan, False, True], dtype=object)"
            ]
          },
          "metadata": {},
          "execution_count": 132
        }
      ]
    },
    {
      "cell_type": "code",
      "source": [
        "df['Region'].unique() # shows the unique values in the Region"
      ],
      "metadata": {
        "colab": {
          "base_uri": "https://localhost:8080/"
        },
        "id": "HcEKTXzErrY8",
        "outputId": "4b942b09-0916-48b8-b1fc-c753647be674"
      },
      "execution_count": null,
      "outputs": [
        {
          "output_type": "execute_result",
          "data": {
            "text/plain": [
              "array([nan, 'Europe', 'Northern America', 'Asia', 'Latin America',\n",
              "       'Oceania', 'Africa'], dtype=object)"
            ]
          },
          "metadata": {},
          "execution_count": 133
        }
      ]
    },
    {
      "cell_type": "code",
      "source": [
        "df.info() # shows the info"
      ],
      "metadata": {
        "colab": {
          "base_uri": "https://localhost:8080/"
        },
        "id": "ETU3nGRRVk3j",
        "outputId": "b01889e8-1cd9-40a0-8487-cdbc10c2889f"
      },
      "execution_count": null,
      "outputs": [
        {
          "output_type": "stream",
          "name": "stdout",
          "text": [
            "<class 'pandas.core.frame.DataFrame'>\n",
            "RangeIndex: 10000 entries, 0 to 9999\n",
            "Data columns (total 30 columns):\n",
            " #   Column                 Non-Null Count  Dtype  \n",
            "---  ------                 --------------  -----  \n",
            " 0   Unnamed: 0             10000 non-null  int64  \n",
            " 1   SourceFundingID        10000 non-null  object \n",
            " 2   Source                 10000 non-null  object \n",
            " 3   Domain                 6109 non-null   object \n",
            " 4   SourceCompanyID        9979 non-null   object \n",
            " 5   PostMoneyValuation     673 non-null    float64\n",
            " 6   Type                   10000 non-null  object \n",
            " 7   SourceType             10000 non-null  object \n",
            " 8   Amount                 6863 non-null   float64\n",
            " 9   Original_Date          9985 non-null   object \n",
            " 10  Date                   9985 non-null   object \n",
            " 11  MonthUnknown           9985 non-null   float64\n",
            " 12  CreatedAt              6473 non-null   object \n",
            " 13  UpdatedAt              6473 non-null   object \n",
            " 14  VentureStage           2231 non-null   object \n",
            " 15  Type_combined          10000 non-null  object \n",
            " 16  CurrencyCode           9815 non-null   object \n",
            " 17  ValuationCurrencyCode  9818 non-null   object \n",
            " 18  ID                     10000 non-null  object \n",
            " 19  Tech                   5464 non-null   object \n",
            " 20  Agency Consultancy     6057 non-null   object \n",
            " 21  Ecosystem              6069 non-null   object \n",
            " 22  GoogleCountry          6067 non-null   object \n",
            " 23  GoogleCity             5694 non-null   object \n",
            " 24  Sectors                4493 non-null   object \n",
            " 25  Region                 6065 non-null   object \n",
            " 26  FormationDate          6034 non-null   object \n",
            " 27  Amount_ExchangeRate    6860 non-null   float64\n",
            " 28  Amount_USD             6860 non-null   float64\n",
            " 29  PostMoneyValuationUSD  672 non-null    float64\n",
            "dtypes: float64(6), int64(1), object(23)\n",
            "memory usage: 2.3+ MB\n"
          ]
        }
      ]
    },
    {
      "cell_type": "markdown",
      "source": [
        "# Data Cleaning"
      ],
      "metadata": {
        "id": "5vcezqyusJSU"
      }
    },
    {
      "cell_type": "code",
      "source": [
        "df.drop('Unnamed: 0',axis=1,inplace=True) # drop the column"
      ],
      "metadata": {
        "id": "_p0TPvReNqQf"
      },
      "execution_count": null,
      "outputs": []
    },
    {
      "cell_type": "code",
      "source": [
        "df.drop(['Date'],axis=1,inplace=True)  # drop the column"
      ],
      "metadata": {
        "id": "by92TcPqSj8A"
      },
      "execution_count": null,
      "outputs": []
    },
    {
      "cell_type": "code",
      "source": [
        "# Calculate the percentage of null values in each column\n",
        "null_check = df.isnull().sum() / len(df)\n",
        "# Get the columns that have more than 30% missing values\n",
        "columns = null_check[null_check > 0.3].index"
      ],
      "metadata": {
        "id": "LE13k0gKTiyw"
      },
      "execution_count": null,
      "outputs": []
    },
    {
      "cell_type": "code",
      "source": [
        "columns = list(columns)"
      ],
      "metadata": {
        "id": "3En_HYVdTkz9"
      },
      "execution_count": null,
      "outputs": []
    },
    {
      "cell_type": "code",
      "source": [
        "df = df.drop(columns,axis=1)# drop the column which having null values more than 30%"
      ],
      "metadata": {
        "id": "60BZgvlsT3uA"
      },
      "execution_count": null,
      "outputs": []
    },
    {
      "cell_type": "code",
      "source": [
        "df.isnull().sum()"
      ],
      "metadata": {
        "colab": {
          "base_uri": "https://localhost:8080/"
        },
        "id": "sst-sj3sUq5Y",
        "outputId": "38531502-db6c-471b-def1-d57915d588e2"
      },
      "execution_count": null,
      "outputs": [
        {
          "output_type": "execute_result",
          "data": {
            "text/plain": [
              "SourceFundingID            0\n",
              "Source                     0\n",
              "SourceCompanyID           21\n",
              "Type                       0\n",
              "SourceType                 0\n",
              "Original_Date             15\n",
              "MonthUnknown              15\n",
              "Type_combined              0\n",
              "CurrencyCode             185\n",
              "ValuationCurrencyCode    182\n",
              "ID                         0\n",
              "dtype: int64"
            ]
          },
          "metadata": {},
          "execution_count": 140
        }
      ]
    },
    {
      "cell_type": "code",
      "source": [
        "df.info()"
      ],
      "metadata": {
        "colab": {
          "base_uri": "https://localhost:8080/"
        },
        "id": "2pfuI7YCrfzT",
        "outputId": "8c95297f-5603-4a49-e9fc-d17099bc70c0"
      },
      "execution_count": null,
      "outputs": [
        {
          "output_type": "stream",
          "name": "stdout",
          "text": [
            "<class 'pandas.core.frame.DataFrame'>\n",
            "RangeIndex: 10000 entries, 0 to 9999\n",
            "Data columns (total 11 columns):\n",
            " #   Column                 Non-Null Count  Dtype  \n",
            "---  ------                 --------------  -----  \n",
            " 0   SourceFundingID        10000 non-null  object \n",
            " 1   Source                 10000 non-null  object \n",
            " 2   SourceCompanyID        9979 non-null   object \n",
            " 3   Type                   10000 non-null  object \n",
            " 4   SourceType             10000 non-null  object \n",
            " 5   Original_Date          9985 non-null   object \n",
            " 6   MonthUnknown           9985 non-null   float64\n",
            " 7   Type_combined          10000 non-null  object \n",
            " 8   CurrencyCode           9815 non-null   object \n",
            " 9   ValuationCurrencyCode  9818 non-null   object \n",
            " 10  ID                     10000 non-null  object \n",
            "dtypes: float64(1), object(10)\n",
            "memory usage: 859.5+ KB\n"
          ]
        }
      ]
    },
    {
      "cell_type": "markdown",
      "source": [
        "### Convert ‘Original_Date’ to string and extract date part"
      ],
      "metadata": {
        "id": "hx3OM9azTMs-"
      }
    },
    {
      "cell_type": "code",
      "source": [
        "df['Original_Date']=df['Original_Date'].astype(\"str\")\n",
        "df['Original_Date']=df['Original_Date'].apply(lambda x : x[0:10])"
      ],
      "metadata": {
        "id": "irsNEnMUrf2a"
      },
      "execution_count": null,
      "outputs": []
    },
    {
      "cell_type": "code",
      "source": [
        "df['Original_Date'].unique()"
      ],
      "metadata": {
        "colab": {
          "base_uri": "https://localhost:8080/"
        },
        "id": "ds67dysbNKLR",
        "outputId": "6f4f639e-8ab0-4b1e-fd93-5b597a8c9059"
      },
      "execution_count": null,
      "outputs": [
        {
          "output_type": "execute_result",
          "data": {
            "text/plain": [
              "array(['2020-06-01', '2021-01-19', '2011-01-01', ..., '2012-01-22',\n",
              "       '2011-09-22', '2014-04-16'], dtype=object)"
            ]
          },
          "metadata": {},
          "execution_count": 143
        }
      ]
    },
    {
      "cell_type": "markdown",
      "source": [
        "### Remove the nan values from the original_date column"
      ],
      "metadata": {
        "id": "WZJcncwJTSTM"
      }
    },
    {
      "cell_type": "code",
      "source": [
        "df = df[df['Original_Date']!='nan']"
      ],
      "metadata": {
        "id": "Lr9_imazRM1D"
      },
      "execution_count": null,
      "outputs": []
    },
    {
      "cell_type": "markdown",
      "source": [
        "### Convert ‘Original_Date’ to datetime and keep only date part"
      ],
      "metadata": {
        "id": "myNERRX4TsKz"
      }
    },
    {
      "cell_type": "code",
      "source": [
        "df['Original_Date']=pd.to_datetime(df['Original_Date'].apply(lambda x : datetime.strptime(x,'%Y-%m-%d').date()))\n",
        "\n",
        "\n"
      ],
      "metadata": {
        "id": "cmhUlicFOOMb",
        "colab": {
          "base_uri": "https://localhost:8080/"
        },
        "outputId": "1b215d7a-4c1a-447e-f6d7-8a91399da0fe"
      },
      "execution_count": null,
      "outputs": [
        {
          "output_type": "stream",
          "name": "stderr",
          "text": [
            "<ipython-input-145-fd9ee3178b9e>:1: SettingWithCopyWarning: \n",
            "A value is trying to be set on a copy of a slice from a DataFrame.\n",
            "Try using .loc[row_indexer,col_indexer] = value instead\n",
            "\n",
            "See the caveats in the documentation: https://pandas.pydata.org/pandas-docs/stable/user_guide/indexing.html#returning-a-view-versus-a-copy\n",
            "  df['Original_Date']=pd.to_datetime(df['Original_Date'].apply(lambda x : datetime.strptime(x,'%Y-%m-%d').date()))\n"
          ]
        }
      ]
    },
    {
      "cell_type": "markdown",
      "source": [
        "###  remove null values from mentioned columns"
      ],
      "metadata": {
        "id": "p1Nj1YjYT67R"
      }
    },
    {
      "cell_type": "code",
      "source": [
        "df=df.dropna(subset=['SourceCompanyID','CurrencyCode','ValuationCurrencyCode'])"
      ],
      "metadata": {
        "id": "HTl1KirTPvYc"
      },
      "execution_count": null,
      "outputs": []
    },
    {
      "cell_type": "code",
      "source": [
        "df.isnull().sum()"
      ],
      "metadata": {
        "colab": {
          "base_uri": "https://localhost:8080/"
        },
        "id": "ufICsHG1TTOD",
        "outputId": "f8446943-87ad-42e1-addf-a8b344a5dc95"
      },
      "execution_count": null,
      "outputs": [
        {
          "output_type": "execute_result",
          "data": {
            "text/plain": [
              "SourceFundingID          0\n",
              "Source                   0\n",
              "SourceCompanyID          0\n",
              "Type                     0\n",
              "SourceType               0\n",
              "Original_Date            0\n",
              "MonthUnknown             0\n",
              "Type_combined            0\n",
              "CurrencyCode             0\n",
              "ValuationCurrencyCode    0\n",
              "ID                       0\n",
              "dtype: int64"
            ]
          },
          "metadata": {},
          "execution_count": 147
        }
      ]
    },
    {
      "cell_type": "markdown",
      "source": [
        "### Replace the series value with venture becuase both are same"
      ],
      "metadata": {
        "id": "6WlN4grhT_2p"
      }
    },
    {
      "cell_type": "code",
      "source": [
        "df['SourceType']=df.SourceType.str.replace(\"series\",\"venture\")"
      ],
      "metadata": {
        "colab": {
          "base_uri": "https://localhost:8080/"
        },
        "id": "7ZBGkRcMXqOQ",
        "outputId": "4a3a9d72-4432-4562-cb41-3dbb8b3d45a0"
      },
      "execution_count": null,
      "outputs": [
        {
          "output_type": "stream",
          "name": "stderr",
          "text": [
            "<ipython-input-148-8adba49752a3>:1: SettingWithCopyWarning: \n",
            "A value is trying to be set on a copy of a slice from a DataFrame.\n",
            "Try using .loc[row_indexer,col_indexer] = value instead\n",
            "\n",
            "See the caveats in the documentation: https://pandas.pydata.org/pandas-docs/stable/user_guide/indexing.html#returning-a-view-versus-a-copy\n",
            "  df['SourceType']=df.SourceType.str.replace(\"series\",\"venture\")\n"
          ]
        }
      ]
    },
    {
      "cell_type": "markdown",
      "source": [
        "#Sort based on dates to identify potential duplicate deals"
      ],
      "metadata": {
        "id": "IXgPrc4xVu2a"
      }
    },
    {
      "cell_type": "code",
      "source": [
        "df=df.sort_values(by=[\"Original_Date\", \"Type\", \"Source\",'SourceType'])"
      ],
      "metadata": {
        "id": "C4G2Fso8bB78"
      },
      "execution_count": null,
      "outputs": []
    },
    {
      "cell_type": "markdown",
      "source": [
        "#deduplicate within each group"
      ],
      "metadata": {
        "id": "9EUpwSsEcwFb"
      }
    },
    {
      "cell_type": "code",
      "source": [
        "def dedupe(group):\n",
        "  deduped = []\n",
        "  prev_date = None\n",
        "  for index, row in group.iterrows():\n",
        "    curr_date = row[\"Original_Date\"]\n",
        "    if prev_date is None or (curr_date - prev_date).days > 190:\n",
        "      deduped.append(row)\n",
        "      prev_date = curr_date\n",
        "  return pd.DataFrame(deduped)\n"
      ],
      "metadata": {
        "id": "o8Qwgx5Zcxva"
      },
      "execution_count": null,
      "outputs": []
    },
    {
      "cell_type": "code",
      "source": [
        "final_output = df.groupby(\"SourceType\").apply(dedupe)"
      ],
      "metadata": {
        "id": "-UEMIwOdcx2m"
      },
      "execution_count": null,
      "outputs": []
    },
    {
      "cell_type": "code",
      "source": [
        "final_output"
      ],
      "metadata": {
        "colab": {
          "base_uri": "https://localhost:8080/"
        },
        "id": "Pb9aKsgycx5y",
        "outputId": "bb22217a-e124-47ef-aa53-3f27def6fbf8"
      },
      "execution_count": null,
      "outputs": [
        {
          "output_type": "execute_result",
          "data": {
            "text/plain": [
              "                                      SourceFundingID      Source  \\\n",
              "SourceType                                                          \n",
              "angel      8737                                143736    Dealroom   \n",
              "           6074  a6c27500-656d-4ec3-a86e-1ef51798feb2  Crunchbase   \n",
              "           9066                                190293    Dealroom   \n",
              "           1030                                167111    Dealroom   \n",
              "           8838                                161536    Dealroom   \n",
              "...                                               ...         ...   \n",
              "venture f  1917                                271340    Dealroom   \n",
              "           520                             113394-79T   PitchBook   \n",
              "venture g  8473                                114999    Dealroom   \n",
              "           189   082dd3b8-1396-c773-8bd6-cdf482ae766e  Crunchbase   \n",
              "venture h  9698                                295629    Dealroom   \n",
              "\n",
              "                                      SourceCompanyID     Type SourceType  \\\n",
              "SourceType                                                                  \n",
              "angel      8737                                164838     seed      angel   \n",
              "           6074  1ff7ff1a-a646-441e-b811-46b77b9fe830     seed      angel   \n",
              "           9066                                135910     seed      angel   \n",
              "           1030                                201970     seed      angel   \n",
              "           8838                                 91385     seed      angel   \n",
              "...                                               ...      ...        ...   \n",
              "venture f  1917                                 34659  venture  venture f   \n",
              "           520                               96145-66  venture  venture f   \n",
              "venture g  8473                               1416261  venture  venture g   \n",
              "           189   365f2923-5996-25d9-a425-8c3dc0964fe4  venture  venture g   \n",
              "venture h  9698                                978385  venture  venture h   \n",
              "\n",
              "                Original_Date  MonthUnknown Type_combined CurrencyCode  \\\n",
              "SourceType                                                               \n",
              "angel      8737    2002-01-01           1.0          seed          USD   \n",
              "           6074    2002-07-17           0.0          seed          CNY   \n",
              "           9066    2004-01-01           1.0          seed          USD   \n",
              "           1030    2005-01-01           1.0          seed          USD   \n",
              "           8838    2006-04-01           0.0          seed          USD   \n",
              "...                       ...           ...           ...          ...   \n",
              "venture f  1917    2019-05-01           0.0     venture f          USD   \n",
              "           520     2019-12-24           0.0     venture f          USD   \n",
              "venture g  8473    2002-05-01           0.0     venture g          USD   \n",
              "           189     2010-07-08           0.0     venture g          USD   \n",
              "venture h  9698    2019-11-01           0.0     venture h          USD   \n",
              "\n",
              "                ValuationCurrencyCode  \\\n",
              "SourceType                              \n",
              "angel      8737                   USD   \n",
              "           6074                   CNY   \n",
              "           9066                   USD   \n",
              "           1030                   USD   \n",
              "           8838                   USD   \n",
              "...                               ...   \n",
              "venture f  1917                   USD   \n",
              "           520                    USD   \n",
              "venture g  8473                   USD   \n",
              "           189                    USD   \n",
              "venture h  9698                   USD   \n",
              "\n",
              "                                                       ID  \n",
              "SourceType                                                 \n",
              "angel      8737  106262190440494354728911057674528329615L  \n",
              "           6074   57597836139951980548437596200740179420L  \n",
              "           9066   81121148758647134598722766139785996674L  \n",
              "           1030   25352520295249444920825206612219468976L  \n",
              "           8838  328816418414589032289297266216031439238L  \n",
              "...                                                   ...  \n",
              "venture f  1917  321246091483920755231864998474205872377L  \n",
              "           520   186817472009341644491330517081476973661L  \n",
              "venture g  8473  134029154093518412562770665942675466008L  \n",
              "           189   129121638102851122566967863143782247856L  \n",
              "venture h  9698  257103241393849936462473344030513957286L  \n",
              "\n",
              "[414 rows x 11 columns]"
            ],
            "text/html": [
              "\n",
              "  <div id=\"df-de6f6f67-4b3f-41b7-b93c-206ab7ecda3e\" class=\"colab-df-container\">\n",
              "    <div>\n",
              "<style scoped>\n",
              "    .dataframe tbody tr th:only-of-type {\n",
              "        vertical-align: middle;\n",
              "    }\n",
              "\n",
              "    .dataframe tbody tr th {\n",
              "        vertical-align: top;\n",
              "    }\n",
              "\n",
              "    .dataframe thead th {\n",
              "        text-align: right;\n",
              "    }\n",
              "</style>\n",
              "<table border=\"1\" class=\"dataframe\">\n",
              "  <thead>\n",
              "    <tr style=\"text-align: right;\">\n",
              "      <th></th>\n",
              "      <th></th>\n",
              "      <th>SourceFundingID</th>\n",
              "      <th>Source</th>\n",
              "      <th>SourceCompanyID</th>\n",
              "      <th>Type</th>\n",
              "      <th>SourceType</th>\n",
              "      <th>Original_Date</th>\n",
              "      <th>MonthUnknown</th>\n",
              "      <th>Type_combined</th>\n",
              "      <th>CurrencyCode</th>\n",
              "      <th>ValuationCurrencyCode</th>\n",
              "      <th>ID</th>\n",
              "    </tr>\n",
              "    <tr>\n",
              "      <th>SourceType</th>\n",
              "      <th></th>\n",
              "      <th></th>\n",
              "      <th></th>\n",
              "      <th></th>\n",
              "      <th></th>\n",
              "      <th></th>\n",
              "      <th></th>\n",
              "      <th></th>\n",
              "      <th></th>\n",
              "      <th></th>\n",
              "      <th></th>\n",
              "      <th></th>\n",
              "    </tr>\n",
              "  </thead>\n",
              "  <tbody>\n",
              "    <tr>\n",
              "      <th rowspan=\"5\" valign=\"top\">angel</th>\n",
              "      <th>8737</th>\n",
              "      <td>143736</td>\n",
              "      <td>Dealroom</td>\n",
              "      <td>164838</td>\n",
              "      <td>seed</td>\n",
              "      <td>angel</td>\n",
              "      <td>2002-01-01</td>\n",
              "      <td>1.0</td>\n",
              "      <td>seed</td>\n",
              "      <td>USD</td>\n",
              "      <td>USD</td>\n",
              "      <td>106262190440494354728911057674528329615L</td>\n",
              "    </tr>\n",
              "    <tr>\n",
              "      <th>6074</th>\n",
              "      <td>a6c27500-656d-4ec3-a86e-1ef51798feb2</td>\n",
              "      <td>Crunchbase</td>\n",
              "      <td>1ff7ff1a-a646-441e-b811-46b77b9fe830</td>\n",
              "      <td>seed</td>\n",
              "      <td>angel</td>\n",
              "      <td>2002-07-17</td>\n",
              "      <td>0.0</td>\n",
              "      <td>seed</td>\n",
              "      <td>CNY</td>\n",
              "      <td>CNY</td>\n",
              "      <td>57597836139951980548437596200740179420L</td>\n",
              "    </tr>\n",
              "    <tr>\n",
              "      <th>9066</th>\n",
              "      <td>190293</td>\n",
              "      <td>Dealroom</td>\n",
              "      <td>135910</td>\n",
              "      <td>seed</td>\n",
              "      <td>angel</td>\n",
              "      <td>2004-01-01</td>\n",
              "      <td>1.0</td>\n",
              "      <td>seed</td>\n",
              "      <td>USD</td>\n",
              "      <td>USD</td>\n",
              "      <td>81121148758647134598722766139785996674L</td>\n",
              "    </tr>\n",
              "    <tr>\n",
              "      <th>1030</th>\n",
              "      <td>167111</td>\n",
              "      <td>Dealroom</td>\n",
              "      <td>201970</td>\n",
              "      <td>seed</td>\n",
              "      <td>angel</td>\n",
              "      <td>2005-01-01</td>\n",
              "      <td>1.0</td>\n",
              "      <td>seed</td>\n",
              "      <td>USD</td>\n",
              "      <td>USD</td>\n",
              "      <td>25352520295249444920825206612219468976L</td>\n",
              "    </tr>\n",
              "    <tr>\n",
              "      <th>8838</th>\n",
              "      <td>161536</td>\n",
              "      <td>Dealroom</td>\n",
              "      <td>91385</td>\n",
              "      <td>seed</td>\n",
              "      <td>angel</td>\n",
              "      <td>2006-04-01</td>\n",
              "      <td>0.0</td>\n",
              "      <td>seed</td>\n",
              "      <td>USD</td>\n",
              "      <td>USD</td>\n",
              "      <td>328816418414589032289297266216031439238L</td>\n",
              "    </tr>\n",
              "    <tr>\n",
              "      <th>...</th>\n",
              "      <th>...</th>\n",
              "      <td>...</td>\n",
              "      <td>...</td>\n",
              "      <td>...</td>\n",
              "      <td>...</td>\n",
              "      <td>...</td>\n",
              "      <td>...</td>\n",
              "      <td>...</td>\n",
              "      <td>...</td>\n",
              "      <td>...</td>\n",
              "      <td>...</td>\n",
              "      <td>...</td>\n",
              "    </tr>\n",
              "    <tr>\n",
              "      <th rowspan=\"2\" valign=\"top\">venture f</th>\n",
              "      <th>1917</th>\n",
              "      <td>271340</td>\n",
              "      <td>Dealroom</td>\n",
              "      <td>34659</td>\n",
              "      <td>venture</td>\n",
              "      <td>venture f</td>\n",
              "      <td>2019-05-01</td>\n",
              "      <td>0.0</td>\n",
              "      <td>venture f</td>\n",
              "      <td>USD</td>\n",
              "      <td>USD</td>\n",
              "      <td>321246091483920755231864998474205872377L</td>\n",
              "    </tr>\n",
              "    <tr>\n",
              "      <th>520</th>\n",
              "      <td>113394-79T</td>\n",
              "      <td>PitchBook</td>\n",
              "      <td>96145-66</td>\n",
              "      <td>venture</td>\n",
              "      <td>venture f</td>\n",
              "      <td>2019-12-24</td>\n",
              "      <td>0.0</td>\n",
              "      <td>venture f</td>\n",
              "      <td>USD</td>\n",
              "      <td>USD</td>\n",
              "      <td>186817472009341644491330517081476973661L</td>\n",
              "    </tr>\n",
              "    <tr>\n",
              "      <th rowspan=\"2\" valign=\"top\">venture g</th>\n",
              "      <th>8473</th>\n",
              "      <td>114999</td>\n",
              "      <td>Dealroom</td>\n",
              "      <td>1416261</td>\n",
              "      <td>venture</td>\n",
              "      <td>venture g</td>\n",
              "      <td>2002-05-01</td>\n",
              "      <td>0.0</td>\n",
              "      <td>venture g</td>\n",
              "      <td>USD</td>\n",
              "      <td>USD</td>\n",
              "      <td>134029154093518412562770665942675466008L</td>\n",
              "    </tr>\n",
              "    <tr>\n",
              "      <th>189</th>\n",
              "      <td>082dd3b8-1396-c773-8bd6-cdf482ae766e</td>\n",
              "      <td>Crunchbase</td>\n",
              "      <td>365f2923-5996-25d9-a425-8c3dc0964fe4</td>\n",
              "      <td>venture</td>\n",
              "      <td>venture g</td>\n",
              "      <td>2010-07-08</td>\n",
              "      <td>0.0</td>\n",
              "      <td>venture g</td>\n",
              "      <td>USD</td>\n",
              "      <td>USD</td>\n",
              "      <td>129121638102851122566967863143782247856L</td>\n",
              "    </tr>\n",
              "    <tr>\n",
              "      <th>venture h</th>\n",
              "      <th>9698</th>\n",
              "      <td>295629</td>\n",
              "      <td>Dealroom</td>\n",
              "      <td>978385</td>\n",
              "      <td>venture</td>\n",
              "      <td>venture h</td>\n",
              "      <td>2019-11-01</td>\n",
              "      <td>0.0</td>\n",
              "      <td>venture h</td>\n",
              "      <td>USD</td>\n",
              "      <td>USD</td>\n",
              "      <td>257103241393849936462473344030513957286L</td>\n",
              "    </tr>\n",
              "  </tbody>\n",
              "</table>\n",
              "<p>414 rows × 11 columns</p>\n",
              "</div>\n",
              "    <div class=\"colab-df-buttons\">\n",
              "\n",
              "  <div class=\"colab-df-container\">\n",
              "    <button class=\"colab-df-convert\" onclick=\"convertToInteractive('df-de6f6f67-4b3f-41b7-b93c-206ab7ecda3e')\"\n",
              "            title=\"Convert this dataframe to an interactive table.\"\n",
              "            style=\"display:none;\">\n",
              "\n",
              "  <svg xmlns=\"http://www.w3.org/2000/svg\" height=\"24px\" viewBox=\"0 -960 960 960\">\n",
              "    <path d=\"M120-120v-720h720v720H120Zm60-500h600v-160H180v160Zm220 220h160v-160H400v160Zm0 220h160v-160H400v160ZM180-400h160v-160H180v160Zm440 0h160v-160H620v160ZM180-180h160v-160H180v160Zm440 0h160v-160H620v160Z\"/>\n",
              "  </svg>\n",
              "    </button>\n",
              "\n",
              "  <style>\n",
              "    .colab-df-container {\n",
              "      display:flex;\n",
              "      gap: 12px;\n",
              "    }\n",
              "\n",
              "    .colab-df-convert {\n",
              "      background-color: #E8F0FE;\n",
              "      border: none;\n",
              "      border-radius: 50%;\n",
              "      cursor: pointer;\n",
              "      display: none;\n",
              "      fill: #1967D2;\n",
              "      height: 32px;\n",
              "      padding: 0 0 0 0;\n",
              "      width: 32px;\n",
              "    }\n",
              "\n",
              "    .colab-df-convert:hover {\n",
              "      background-color: #E2EBFA;\n",
              "      box-shadow: 0px 1px 2px rgba(60, 64, 67, 0.3), 0px 1px 3px 1px rgba(60, 64, 67, 0.15);\n",
              "      fill: #174EA6;\n",
              "    }\n",
              "\n",
              "    .colab-df-buttons div {\n",
              "      margin-bottom: 4px;\n",
              "    }\n",
              "\n",
              "    [theme=dark] .colab-df-convert {\n",
              "      background-color: #3B4455;\n",
              "      fill: #D2E3FC;\n",
              "    }\n",
              "\n",
              "    [theme=dark] .colab-df-convert:hover {\n",
              "      background-color: #434B5C;\n",
              "      box-shadow: 0px 1px 3px 1px rgba(0, 0, 0, 0.15);\n",
              "      filter: drop-shadow(0px 1px 2px rgba(0, 0, 0, 0.3));\n",
              "      fill: #FFFFFF;\n",
              "    }\n",
              "  </style>\n",
              "\n",
              "    <script>\n",
              "      const buttonEl =\n",
              "        document.querySelector('#df-de6f6f67-4b3f-41b7-b93c-206ab7ecda3e button.colab-df-convert');\n",
              "      buttonEl.style.display =\n",
              "        google.colab.kernel.accessAllowed ? 'block' : 'none';\n",
              "\n",
              "      async function convertToInteractive(key) {\n",
              "        const element = document.querySelector('#df-de6f6f67-4b3f-41b7-b93c-206ab7ecda3e');\n",
              "        const dataTable =\n",
              "          await google.colab.kernel.invokeFunction('convertToInteractive',\n",
              "                                                    [key], {});\n",
              "        if (!dataTable) return;\n",
              "\n",
              "        const docLinkHtml = 'Like what you see? Visit the ' +\n",
              "          '<a target=\"_blank\" href=https://colab.research.google.com/notebooks/data_table.ipynb>data table notebook</a>'\n",
              "          + ' to learn more about interactive tables.';\n",
              "        element.innerHTML = '';\n",
              "        dataTable['output_type'] = 'display_data';\n",
              "        await google.colab.output.renderOutput(dataTable, element);\n",
              "        const docLink = document.createElement('div');\n",
              "        docLink.innerHTML = docLinkHtml;\n",
              "        element.appendChild(docLink);\n",
              "      }\n",
              "    </script>\n",
              "  </div>\n",
              "\n",
              "\n",
              "<div id=\"df-c6eee77d-ea25-44d8-95f4-7450f4a7b3f4\">\n",
              "  <button class=\"colab-df-quickchart\" onclick=\"quickchart('df-c6eee77d-ea25-44d8-95f4-7450f4a7b3f4')\"\n",
              "            title=\"Suggest charts.\"\n",
              "            style=\"display:none;\">\n",
              "\n",
              "<svg xmlns=\"http://www.w3.org/2000/svg\" height=\"24px\"viewBox=\"0 0 24 24\"\n",
              "     width=\"24px\">\n",
              "    <g>\n",
              "        <path d=\"M19 3H5c-1.1 0-2 .9-2 2v14c0 1.1.9 2 2 2h14c1.1 0 2-.9 2-2V5c0-1.1-.9-2-2-2zM9 17H7v-7h2v7zm4 0h-2V7h2v10zm4 0h-2v-4h2v4z\"/>\n",
              "    </g>\n",
              "</svg>\n",
              "  </button>\n",
              "\n",
              "<style>\n",
              "  .colab-df-quickchart {\n",
              "      --bg-color: #E8F0FE;\n",
              "      --fill-color: #1967D2;\n",
              "      --hover-bg-color: #E2EBFA;\n",
              "      --hover-fill-color: #174EA6;\n",
              "      --disabled-fill-color: #AAA;\n",
              "      --disabled-bg-color: #DDD;\n",
              "  }\n",
              "\n",
              "  [theme=dark] .colab-df-quickchart {\n",
              "      --bg-color: #3B4455;\n",
              "      --fill-color: #D2E3FC;\n",
              "      --hover-bg-color: #434B5C;\n",
              "      --hover-fill-color: #FFFFFF;\n",
              "      --disabled-bg-color: #3B4455;\n",
              "      --disabled-fill-color: #666;\n",
              "  }\n",
              "\n",
              "  .colab-df-quickchart {\n",
              "    background-color: var(--bg-color);\n",
              "    border: none;\n",
              "    border-radius: 50%;\n",
              "    cursor: pointer;\n",
              "    display: none;\n",
              "    fill: var(--fill-color);\n",
              "    height: 32px;\n",
              "    padding: 0;\n",
              "    width: 32px;\n",
              "  }\n",
              "\n",
              "  .colab-df-quickchart:hover {\n",
              "    background-color: var(--hover-bg-color);\n",
              "    box-shadow: 0 1px 2px rgba(60, 64, 67, 0.3), 0 1px 3px 1px rgba(60, 64, 67, 0.15);\n",
              "    fill: var(--button-hover-fill-color);\n",
              "  }\n",
              "\n",
              "  .colab-df-quickchart-complete:disabled,\n",
              "  .colab-df-quickchart-complete:disabled:hover {\n",
              "    background-color: var(--disabled-bg-color);\n",
              "    fill: var(--disabled-fill-color);\n",
              "    box-shadow: none;\n",
              "  }\n",
              "\n",
              "  .colab-df-spinner {\n",
              "    border: 2px solid var(--fill-color);\n",
              "    border-color: transparent;\n",
              "    border-bottom-color: var(--fill-color);\n",
              "    animation:\n",
              "      spin 1s steps(1) infinite;\n",
              "  }\n",
              "\n",
              "  @keyframes spin {\n",
              "    0% {\n",
              "      border-color: transparent;\n",
              "      border-bottom-color: var(--fill-color);\n",
              "      border-left-color: var(--fill-color);\n",
              "    }\n",
              "    20% {\n",
              "      border-color: transparent;\n",
              "      border-left-color: var(--fill-color);\n",
              "      border-top-color: var(--fill-color);\n",
              "    }\n",
              "    30% {\n",
              "      border-color: transparent;\n",
              "      border-left-color: var(--fill-color);\n",
              "      border-top-color: var(--fill-color);\n",
              "      border-right-color: var(--fill-color);\n",
              "    }\n",
              "    40% {\n",
              "      border-color: transparent;\n",
              "      border-right-color: var(--fill-color);\n",
              "      border-top-color: var(--fill-color);\n",
              "    }\n",
              "    60% {\n",
              "      border-color: transparent;\n",
              "      border-right-color: var(--fill-color);\n",
              "    }\n",
              "    80% {\n",
              "      border-color: transparent;\n",
              "      border-right-color: var(--fill-color);\n",
              "      border-bottom-color: var(--fill-color);\n",
              "    }\n",
              "    90% {\n",
              "      border-color: transparent;\n",
              "      border-bottom-color: var(--fill-color);\n",
              "    }\n",
              "  }\n",
              "</style>\n",
              "\n",
              "  <script>\n",
              "    async function quickchart(key) {\n",
              "      const quickchartButtonEl =\n",
              "        document.querySelector('#' + key + ' button');\n",
              "      quickchartButtonEl.disabled = true;  // To prevent multiple clicks.\n",
              "      quickchartButtonEl.classList.add('colab-df-spinner');\n",
              "      try {\n",
              "        const charts = await google.colab.kernel.invokeFunction(\n",
              "            'suggestCharts', [key], {});\n",
              "      } catch (error) {\n",
              "        console.error('Error during call to suggestCharts:', error);\n",
              "      }\n",
              "      quickchartButtonEl.classList.remove('colab-df-spinner');\n",
              "      quickchartButtonEl.classList.add('colab-df-quickchart-complete');\n",
              "    }\n",
              "    (() => {\n",
              "      let quickchartButtonEl =\n",
              "        document.querySelector('#df-c6eee77d-ea25-44d8-95f4-7450f4a7b3f4 button');\n",
              "      quickchartButtonEl.style.display =\n",
              "        google.colab.kernel.accessAllowed ? 'block' : 'none';\n",
              "    })();\n",
              "  </script>\n",
              "</div>\n",
              "    </div>\n",
              "  </div>\n"
            ]
          },
          "metadata": {},
          "execution_count": 152
        }
      ]
    }
  ]
}